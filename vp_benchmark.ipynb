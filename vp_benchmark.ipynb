{
 "cells": [
  {
   "cell_type": "code",
   "execution_count": null,
   "id": "abf5ba35",
   "metadata": {},
   "outputs": [],
   "source": [
    "import numpy as np\n",
    "from scipy.stats import sampling\n",
    "from scipy import stats\n",
    "from distributions import StdNorm, Gamma, Beta, GenNorm"
   ]
  },
  {
   "cell_type": "code",
   "execution_count": null,
   "id": "d892c7d9",
   "metadata": {},
   "outputs": [],
   "source": [
    "# Set the uniform random number generator\n",
    "urng1 = np.random.Generator(np.random.MT19937(0))\n",
    "urng2 = np.random.Generator(np.random.PCG64(0))"
   ]
  },
  {
   "cell_type": "code",
   "execution_count": null,
   "id": "2aba39f8",
   "metadata": {},
   "outputs": [],
   "source": [
    "dists = [StdNorm, Gamma, Beta]\n",
    "stdnorm_params = [()]\n",
    "gamma_params = [(0.05,), (0.5,), (3.0,)]\n",
    "beta_params = [(0.5, 0.5), (0.5, 1.0), (1.3, 1.2), (3.0, 2.0)]\n",
    "dist_params = [stdnorm_params, gamma_params, beta_params]"
   ]
  },
  {
   "cell_type": "code",
   "execution_count": null,
   "id": "1e9a6182",
   "metadata": {},
   "outputs": [],
   "source": [
    "methods = [sampling.NumericalInversePolynomial,\n",
    "           sampling.NumericalInverseHermite,\n",
    "           sampling.TransformedDensityRejection,\n",
    "           sampling.SimpleRatioUniforms]\n",
    "method_names = [\"PINV\", \"HINV\", \"TDR\", \"SROU\"]"
   ]
  },
  {
   "cell_type": "code",
   "execution_count": null,
   "id": "95fb0071",
   "metadata": {},
   "outputs": [],
   "source": [
    "sample_size = 1_000_000  # sample 1mn variates"
   ]
  },
  {
   "cell_type": "code",
   "execution_count": null,
   "id": "eae331ed",
   "metadata": {},
   "outputs": [],
   "source": [
    "import warnings\n",
    "\n",
    "with warnings.catch_warnings():\n",
    "    warnings.filterwarnings(\"ignore\")\n",
    "    for urng in [urng1, urng2]:\n",
    "        print(f\"Using URNG {urng.bit_generator.__class__.__name__}\")\n",
    "        for Dist, params in zip(dists, dist_params):\n",
    "            for i, param in enumerate(params):\n",
    "                dist = Dist(*param)\n",
    "                for Method, method_name in zip(methods, method_names):\n",
    "                    print(f\"{method_name}, {dist}{param} [setup]    : \", end=\"\")\n",
    "                    try:\n",
    "                        if method_name == \"HINV\":\n",
    "                            method = Method(dist, u_resolution=1e-10, random_state=urng)\n",
    "                            %timeit Method(dist, u_resolution=1e-10, random_state=urng)\n",
    "                        elif method_name == \"SROU\":\n",
    "                            mode = dist.mode()\n",
    "                            method = Method(dist, mode=mode, random_state=urng)\n",
    "                            %timeit Method(dist, mode=mode, random_state=urng)\n",
    "                        else:\n",
    "                            method = Method(dist, random_state=urng)\n",
    "                            %timeit Method(dist, random_state=urng)\n",
    "                        print(f\"{method_name}, {dist}{param} [sampling] : \", end=\"\")\n",
    "                        %timeit method.rvs(sample_size)\n",
    "                    except sampling.UNURANError:\n",
    "                        print(\"Failed\")"
   ]
  },
  {
   "cell_type": "code",
   "execution_count": null,
   "id": "b91ee926",
   "metadata": {},
   "outputs": [],
   "source": [
    "for urng in [urng1, urng2]:\n",
    "    print(f\"Using URNG {urng.bit_generator.__class__.__name__}\")\n",
    "    for params in stdnorm_params:\n",
    "        %timeit urng.standard_normal(*params, size=sample_size)"
   ]
  },
  {
   "cell_type": "code",
   "execution_count": null,
   "id": "b8610d8c",
   "metadata": {},
   "outputs": [],
   "source": [
    "for urng in [urng1, urng2]:\n",
    "    print(f\"Using URNG {urng.bit_generator.__class__.__name__}\")\n",
    "    for params in gamma_params:\n",
    "        print(f\"Gamma{param}    : \", end=\"\")\n",
    "        %timeit urng.gamma(*params, size=sample_size)"
   ]
  },
  {
   "cell_type": "code",
   "execution_count": null,
   "id": "8d226a29",
   "metadata": {},
   "outputs": [],
   "source": [
    "for urng in [urng1, urng2]:\n",
    "    print(f\"Using URNG {urng.bit_generator.__class__.__name__}\")\n",
    "    for params in beta_params:\n",
    "        print(f\"Beta{param}    : \", end=\"\")\n",
    "        %timeit urng.beta(*params, size=sample_size)"
   ]
  },
  {
   "cell_type": "code",
   "execution_count": null,
   "id": "02fe690a",
   "metadata": {},
   "outputs": [],
   "source": [
    "gennorm_params = [0.25, 0.45, 0.75, 1., 1.5, 2, 5, 8]"
   ]
  },
  {
   "cell_type": "code",
   "execution_count": null,
   "id": "8a8aee12",
   "metadata": {},
   "outputs": [],
   "source": [
    "def np_gennorm(beta, size, random_state):\n",
    "    z = random_state.gamma(1/beta, size=size)\n",
    "    y = z ** (1/beta)\n",
    "    # convert y to array to ensure masking support\n",
    "    y = np.asarray(y)\n",
    "    mask = random_state.random(size=y.shape) < 0.5\n",
    "    y[mask] = -y[mask]\n",
    "    return y"
   ]
  },
  {
   "cell_type": "code",
   "execution_count": null,
   "id": "47644957",
   "metadata": {},
   "outputs": [],
   "source": [
    "urng = np.random.Generator(np.random.PCG64(0))"
   ]
  },
  {
   "cell_type": "code",
   "execution_count": null,
   "id": "dcb0aa23",
   "metadata": {},
   "outputs": [],
   "source": [
    "for param in gennorm_params:\n",
    "    print(f\"[NP]    gennorm({param})    : \", end=\"\")\n",
    "    %timeit np_gennorm(param, size=1_000_000, random_state=urng)\n",
    "    print(f\"[SciPy] gennorm({param})    : \", end=\"\")\n",
    "    dist = stats.gennorm(param)\n",
    "    %timeit dist.rvs(size=1_000_000, random_state=urng)\n",
    "    print(f\"[PINV]  gennorm({param})    : \", end=\"\")\n",
    "    dist = GenNorm(param)\n",
    "    %timeit rng = sampling.NumericalInversePolynomial(dist, random_state=urng); rng.rvs(1_000_000)"
   ]
  },
  {
   "cell_type": "code",
   "execution_count": null,
   "id": "4b01134e",
   "metadata": {},
   "outputs": [],
   "source": []
  }
 ],
 "metadata": {
  "interpreter": {
   "hash": "05056b128bdf969b4b87bd52ae2d536ef07e3d0d1df4c289bf911d9dfbc7e322"
  },
  "kernelspec": {
   "display_name": "Python 3.9.12 ('unuran-dev': venv)",
   "language": "python",
   "name": "python3"
  },
  "language_info": {
   "codemirror_mode": {
    "name": "ipython",
    "version": 3
   },
   "file_extension": ".py",
   "mimetype": "text/x-python",
   "name": "python",
   "nbconvert_exporter": "python",
   "pygments_lexer": "ipython3",
   "version": "3.9.13"
  }
 },
 "nbformat": 4,
 "nbformat_minor": 5
}
